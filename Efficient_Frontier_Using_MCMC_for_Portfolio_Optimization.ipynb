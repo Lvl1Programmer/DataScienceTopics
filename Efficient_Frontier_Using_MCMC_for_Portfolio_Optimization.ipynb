{
  "nbformat": 4,
  "nbformat_minor": 0,
  "metadata": {
    "colab": {
      "provenance": [],
      "authorship_tag": "ABX9TyPh7LrQRjEbmDOSzjCHor8m",
      "include_colab_link": true
    },
    "kernelspec": {
      "name": "python3",
      "display_name": "Python 3"
    },
    "language_info": {
      "name": "python"
    }
  },
  "cells": [
    {
      "cell_type": "markdown",
      "metadata": {
        "id": "view-in-github",
        "colab_type": "text"
      },
      "source": [
        "<a href=\"https://colab.research.google.com/github/Lvl1Programmer/DataScienceTopics/blob/main/Efficient_Frontier_Using_MCMC_for_Portfolio_Optimization.ipynb\" target=\"_parent\"><img src=\"https://colab.research.google.com/assets/colab-badge.svg\" alt=\"Open In Colab\"/></a>"
      ]
    },
    {
      "cell_type": "markdown",
      "source": [
        "# Purpose of this Notebook\n",
        "This notebook will be exploring into MCMC with financial data to generate Efficient Frontier for portfolio optimization. With the goal of deepening understanding of both MCMC method and the Efficient Frontier theory. The goal of this notebook is for both the reader and myself to learn and understand the fundamentals of each topic, as well as explore the current frontier of knowledge and its future direction, which may be drawn from books, academic papers, or data from funds.\n"
      ],
      "metadata": {
        "id": "ZMcZWvYZ6k-c"
      }
    },
    {
      "cell_type": "markdown",
      "source": [
        "Note:\n",
        "I would greatly appreciate any comments or suggestions for improvements to this notebook, aiming to make it more reliable as not only an informative resource but also a comprehensive one.\n",
        "\n",
        "Please note that I will also be using the assistance of ChatGPT-4 for wording and explanations throughout the topics to complete any incomplete explanation. Feel free to comment or give suggestion if you find any of the theory/information to be wrong."
      ],
      "metadata": {
        "id": "qLGoHiGn8Xos"
      }
    },
    {
      "cell_type": "markdown",
      "source": [
        "# Topics\n",
        "\n"
      ],
      "metadata": {
        "id": "uT6eW-Wi8V30"
      }
    },
    {
      "cell_type": "markdown",
      "source": [
        "## 1. [Risk and Returns](#risk-and-returns)\n",
        "## 2. [Captial Asset Pricing Model](#CAPM)\n",
        "## 3. [Portfolio Risk and Return](#Portfolio-Risk-and-Return)\n",
        "## 4. [Diversification](#Diversification)\n",
        "## 5. [Efficient Frontier](#Efficient-Frontier)\n",
        "## 6. [Modern Portfolio Theory(MPT)](#MPT)\n",
        "## 7. [Capital Market Line (CML)](#CML)\n",
        "## 8. [Markov Chains](#MC)\n",
        "## 9. [MCMCs' role](#MCMC)\n",
        "## 10. [Portfolio Optimizations](#Portfolio-Optimizations)\n",
        "## 11. [References](#references)"
      ],
      "metadata": {
        "id": "UrDf5Iox9ByU"
      }
    },
    {
      "cell_type": "markdown",
      "source": [
        "# Risk and Returns"
      ],
      "metadata": {
        "id": "A1FqvjwrITFS"
      }
    },
    {
      "cell_type": "markdown",
      "source": [
        "## What is risk\n",
        "In the finance world, risk is **probability of losing 'X' amount of investment** or **return volatility of an investment over a given time period**. Typically when people in finance talk about risk it is the second defintion, and we will also hence forth be using the second definition too. This **return volatility** is usally denoted by **σ** (sigma) AKA standard deviation, a statistical figure that is calculated as the $ \\sqrt{\\sigma^2} $\n",
        "or **positive** sqaure root of variance.\n",
        "- You could think it as how spread/variable return of a investment/s are\n",
        "- Greater σ means greater risk\n",
        "\n",
        "## What is Return\n",
        "Return (AKA Profit/Capital Gain) is usally presented as a percentage relative to the orignal investment. However, when discussing forecasting and portfolio mangement we use **Expected Returns** $ E(R) $, a value estimate of a average outcome, calculated based on **potential** profit or losses from an investment over a future period which is usually presented as a numerical value but can also be a percentage.\n",
        "\n",
        "##### **Expected Return**\n",
        "\n",
        "$$ E(R) = \\sum_{i=1}^{n} p_i R_i $$\n",
        "Where:\n",
        "\n",
        "- $ E(R) $ is the **expected return**.\n",
        "- $ p_i $ is the **probability** of outcome $i$.\n",
        "- $ R_i $ is the **return** for outcome $i$.\n",
        "\n",
        "A more formal equation for expected return for portfolios or individual investment are derived from Capital Asset Pricing Model (CAPM)\n",
        "$$\\bar{r}_a = r_f + β_a(r_m - r_f)$$\n",
        "\n",
        "$\\bar{r}_a$ = expected return of **investment**\n",
        "\n",
        "$r_f$ = risk-free rate\n",
        "\n",
        "$β_a$ = Beta of investment(volatility or systematic risk, represent how the investment's price is expected to move in relation to the market's movement)\n",
        "\n",
        "$(r_m-r_f)$ = market risk premium\n",
        "\n",
        "$r_m$ = Expected return of market\n",
        "\n",
        "$r_f$ = Risk free investment\n",
        "\n",
        "We will leran more about this formula down in the CAPM chapter\n",
        "\n",
        "## Risk and Return Tradeoff\n",
        "This is a term/rule/principal that is used in finance that states the higher the return the higher the risk.\n",
        "\n",
        "How to evaluate the risk to return of a asset\n",
        "1. Alpha ratio\n",
        "- Alpha, is what we call excess returns on investment\n",
        "- So an alpha ratio, is a measure of excess return on a investment compared to a certain benchmark.\n",
        "- One way to calculate alpha ratio is Jensen's alpha(uses CAPM as a benchmark)\n",
        "\n",
        "$$ Alpha = R(i) - (R(f) + B x (R(m) - R(f))) $$\n",
        "\n",
        "Remember that alpha is basically\n",
        "\n",
        "**Expected Return - Actual Return**\n",
        "\n",
        "2. Beta ratio\n",
        "- Beta is correlation\n",
        "\n",
        "$$Beta = Covariance(Ri, Rm) / Variance(Rm)$$\n",
        "\n",
        "- Beta helps to see if there a reason the stock/assets is underperforming or overperforming as a whole from sector/section part of view\n",
        "\n",
        "3. Shapre Ratio\n",
        "- The famous sharpe ratio, it is used to see if the risk is worth the rweard. Some investors/client uses this as their main point\n",
        "\n",
        "$$SharpeRatio = (Rp - Rf) / σp$$\n",
        "\n",
        "Rp = Return of the portfolio\n",
        "\n",
        "Rf = Risk-free rate of return\n",
        "\n",
        "σp = Standard deviation of the portfolio's excess return\n"
      ],
      "metadata": {
        "id": "I6HtiSceIn0W"
      }
    },
    {
      "cell_type": "markdown",
      "source": [
        "# CAPM\n"
      ],
      "metadata": {
        "id": "HypQI1aEgzk6"
      }
    },
    {
      "cell_type": "markdown",
      "source": [
        "\n",
        "## CAPM\n",
        "In modern times, when ever we talk risk and returns we usually refer to the standard econometric called Capital Asset Pricing Model (CAPM). CAPM is a part of the capital market theory, we will learn more about this in the MPT chapter. In general term CAPM relays that asset's price can be calculated through one important factor **the overall market risk premium relative to its market**.\n",
        "\n",
        "CAPM Formula:\n",
        "$$ER_i = R_f + B_i(ER_m-Rf)$$\n",
        "where:\n",
        "- $ER_i$ = expected return of investment\n",
        "- $R_f$ = risk-free rate\n",
        "- $B_i$ = beta of the investment\n",
        "- $(ER_m - R_f)$ = market risk premium\n",
        "\n",
        "Key assumptions for the model\n",
        "- Investors are rational, mean-variance optimizers.\n",
        "- Investors have homogenous expectations.\n",
        "- All assets are publicly traded.\n",
        "- Investors can borrow or lend at a common risk-free rate.\n",
        "\n",
        "- All investors are risk-averse by nature.\n",
        "- Investors have the same time period to evaluate information.\n",
        "- There is unlimited capital to borrow at the risk-free rate of return.\n",
        "- Investments can be divided into unlimited pieces and sizes.\n",
        "- There are no taxes, inflation, or transaction costs.\n",
        "- Risk and return are linearly related."
      ],
      "metadata": {
        "id": "KHsXECCmg1A2"
      }
    },
    {
      "cell_type": "markdown",
      "source": [
        "# Portfolio Risk and Return"
      ],
      "metadata": {
        "id": "Sd2fdclciEAD"
      }
    },
    {
      "cell_type": "markdown",
      "source": [],
      "metadata": {
        "id": "1RlA5G58rgat"
      }
    },
    {
      "cell_type": "markdown",
      "source": [
        "#Diversification"
      ],
      "metadata": {
        "id": "UUtcxg7Yrguy"
      }
    },
    {
      "cell_type": "markdown",
      "source": [],
      "metadata": {
        "id": "d8-Yg7ZgrkpY"
      }
    },
    {
      "cell_type": "markdown",
      "source": [
        "# Efficient Frontier"
      ],
      "metadata": {
        "id": "HeLTSc1drm7B"
      }
    },
    {
      "cell_type": "markdown",
      "source": [],
      "metadata": {
        "id": "i0degtWeroV3"
      }
    },
    {
      "cell_type": "markdown",
      "source": [
        "# Modern Portfolio Theory"
      ],
      "metadata": {
        "id": "Hzh3_gnUroqM"
      }
    },
    {
      "cell_type": "markdown",
      "source": [],
      "metadata": {
        "id": "qDLFFtu4rrdR"
      }
    },
    {
      "cell_type": "markdown",
      "source": [
        "# Capital Market Line"
      ],
      "metadata": {
        "id": "fc5WIHDQrrxo"
      }
    },
    {
      "cell_type": "markdown",
      "source": [],
      "metadata": {
        "id": "_J61Gc99rt0W"
      }
    },
    {
      "cell_type": "markdown",
      "source": [
        "# Markov Chains"
      ],
      "metadata": {
        "id": "l2SQwXQGruHo"
      }
    },
    {
      "cell_type": "markdown",
      "source": [],
      "metadata": {
        "id": "iIm4TQERrwWu"
      }
    },
    {
      "cell_type": "markdown",
      "source": [
        "# MCMC's role"
      ],
      "metadata": {
        "id": "yCnzNhzgrwm5"
      }
    },
    {
      "cell_type": "markdown",
      "source": [],
      "metadata": {
        "id": "mQbMT11LryNd"
      }
    },
    {
      "cell_type": "markdown",
      "source": [
        "# Portfolio's Optimizations"
      ],
      "metadata": {
        "id": "gA0fktFXry88"
      }
    },
    {
      "cell_type": "markdown",
      "source": [],
      "metadata": {
        "id": "9O5hB8NZr2Fs"
      }
    },
    {
      "cell_type": "code",
      "source": [],
      "metadata": {
        "id": "gW9naRUFg03R"
      },
      "execution_count": null,
      "outputs": []
    },
    {
      "cell_type": "code",
      "source": [],
      "metadata": {
        "id": "f-NK2rXJIUdy"
      },
      "execution_count": null,
      "outputs": []
    },
    {
      "cell_type": "markdown",
      "source": [
        "# References"
      ],
      "metadata": {
        "id": "wRjBCEsBEEF7"
      }
    },
    {
      "cell_type": "markdown",
      "source": [
        "1. [Risk, Uncertainty, and Profit By Frank H. Knight](https://www.econlib.org/library/Knight/knRUP.html?chapter_num=3#book-reader)\n",
        "  1. [Full Book(pdf)](https://fraser.stlouisfed.org/files/docs/publications/books/risk/riskuncertaintyprofit.pdf)\n",
        "2. [A Century of Risk, Uncertainty, and Profit By Ross Emmett](https://www.econlib.org/library/Columns/y2018/Emmettriskuncertaintyprofit.html)\n",
        "3. [The Black Swan: The Impact of the Highly Improbable by Nasim Taleb (pdf)](https://archive.org/details/10.1.1.695.4305)\n",
        "4. [Risk and Return in Financial Management by CFI Team](https://corporatefinanceinstitute.com/resources/career-map/sell-side/risk-management/risk-and-return-in-financial-management/)\n",
        "5. [Risk and Return Tradeoff](https://www.investopedia.com/terms/r/riskreturntradeoff.asp)\n",
        "6. [Efficient Frontier by POEMS](https://www.poems.com.sg/glossary/financial-terms/efficient-frontier/)\n",
        "  1. [Efficient Frontier by CFI Team](https://corporatefinanceinstitute.com/resources/career-map/sell-side/capital-markets/efficient-frontier/#:~:text=Start%20Free-,What%20is%20an%20Efficient%20Frontier%3F,or%20equal%20amount%20of%20risk.)\n",
        "  2. [Efficient Frontier by Investopedia](https://www.investopedia.com/terms/e/efficientfrontier.asp)\n",
        "7. [Variance and Standard Deviation](https://www.ncl.ac.uk/webtemplate/ask-assets/external/maths-resources/statistics/descriptive-statistics/variance-and-standard-deviation.html#:~:text=The%20standard%20deviation%2C%20often%20denoted,square%20root%20of%20the%20variance.)\n",
        "8. [Expected Return: What It Is and How It Works](https://www.investopedia.com/terms/e/expectedreturn.asp)\n",
        "9. [CAPM, and research and books on it](https://www.sciencedirect.com/topics/economics-econometrics-and-finance/capm)\n",
        "10. [CAPM by cfi](https://corporatefinanceinstitute-com.translate.goog/resources/valuation/what-is-capm-formula/?_x_tr_sl=en&_x_tr_tl=id&_x_tr_hl=id&_x_tr_pto=sc)\n",
        "11. [CAPM by Investopedia](https://www.investopedia.com/terms/c/capm.asp)"
      ],
      "metadata": {
        "id": "xQkVyYO1EHDq"
      }
    },
    {
      "cell_type": "code",
      "execution_count": null,
      "metadata": {
        "id": "Q1CjnLKP6BEW"
      },
      "outputs": [],
      "source": []
    }
  ]
}